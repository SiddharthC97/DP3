{
 "cells": [
  {
   "cell_type": "markdown",
   "id": "bf67731b",
   "metadata": {},
   "source": [
    "# Derive models of spacecraft with star tracker"
   ]
  },
  {
   "cell_type": "markdown",
   "id": "389fec45",
   "metadata": {},
   "source": [
    "Do all imports."
   ]
  },
  {
   "cell_type": "code",
   "execution_count": 1,
   "id": "other-peter",
   "metadata": {},
   "outputs": [],
   "source": [
    "import sympy as sym\n",
    "import numpy as np\n",
    "from scipy import linalg\n",
    "from scipy import signal\n",
    "import ae353_spacecraft_design as design"
   ]
  },
  {
   "cell_type": "markdown",
   "id": "30f99a8f",
   "metadata": {},
   "source": [
    "## Create spacecraft"
   ]
  },
  {
   "cell_type": "markdown",
   "id": "58060459",
   "metadata": {},
   "source": [
    "Create a visualizer to help with placement of reaction wheels."
   ]
  },
  {
   "cell_type": "code",
   "execution_count": 2,
   "id": "c4596230",
   "metadata": {
    "scrolled": true
   },
   "outputs": [
    {
     "name": "stdout",
     "output_type": "stream",
     "text": [
      "You can open the visualizer by visiting the following URL:\n",
      "http://127.0.0.1:7001/static/\n"
     ]
    },
    {
     "data": {
      "text/html": [
       "\n",
       "            <div style=\"height: 400px; width: 100%; overflow-x: auto; overflow-y: hidden; resize: both\">\n",
       "            <iframe src=\"http://127.0.0.1:7001/static/\" style=\"width: 100%; height: 100%; border: none\"></iframe>\n",
       "            </div>\n",
       "            "
      ],
      "text/plain": [
       "<IPython.core.display.HTML object>"
      ]
     },
     "execution_count": 2,
     "metadata": {},
     "output_type": "execute_result"
    }
   ],
   "source": [
    "# Create the visualizer\n",
    "vis = design.create_visualizer()\n",
    "\n",
    "# Show the visualizer in this notebook\n",
    "vis.jupyter_cell()"
   ]
  },
  {
   "cell_type": "markdown",
   "id": "5f3ada47",
   "metadata": {},
   "source": [
    "Specify the location of each reaction wheel in terms of its right ascension $\\alpha$ and declination $\\delta$:"
   ]
  },
  {
   "cell_type": "code",
   "execution_count": 3,
   "id": "6700e408",
   "metadata": {},
   "outputs": [],
   "source": [
    "wheels = [\n",
    "    {'alpha': 1 * np.pi / 4, 'delta': np.pi},\n",
    "    {'alpha': 3 * np.pi / 4, 'delta': -np.pi},\n",
    "    {'alpha': 5 * np.pi / 4, 'delta': np.pi/2},\n",
    "    {'alpha': 7 * np.pi / 4, 'delta': -np.pi/2},\n",
    "]"
   ]
  },
  {
   "cell_type": "markdown",
   "id": "35d5b68c",
   "metadata": {},
   "source": [
    "Show wheels in the visualizer. You will be warned if any wheel obscures the star tracker (i.e., the \"scope\") or if any two wheels are too close together."
   ]
  },
  {
   "cell_type": "code",
   "execution_count": 4,
   "id": "78f08330",
   "metadata": {},
   "outputs": [],
   "source": [
    "design.show_wheels(vis, wheels)"
   ]
  },
  {
   "cell_type": "markdown",
   "id": "08d304bd",
   "metadata": {},
   "source": [
    "Create a model of the spacecraft in URDF format. This will **overwrite** the file `spacecraft.urdf` in the `urdf` directory."
   ]
  },
  {
   "cell_type": "code",
   "execution_count": 5,
   "id": "0020f641",
   "metadata": {},
   "outputs": [],
   "source": [
    "design.create_spacecraft(wheels)"
   ]
  },
  {
   "cell_type": "markdown",
   "id": "nominated-instrument",
   "metadata": {},
   "source": [
    "## Create dynamic model"
   ]
  },
  {
   "cell_type": "markdown",
   "id": "sticky-outreach",
   "metadata": {},
   "source": [
    "Specify the physical parameters:"
   ]
  },
  {
   "cell_type": "code",
   "execution_count": 6,
   "id": "missing-tobago",
   "metadata": {},
   "outputs": [],
   "source": [
    "# Mass and MOI of base\n",
    "mb = 6.\n",
    "Jxb = 10.\n",
    "Jyb = 10.\n",
    "Jzb = 16.\n",
    "\n",
    "# Mass and MOI of each wheel\n",
    "mw = 1.\n",
    "Jxw = 0.075\n",
    "Jyw = 0.075\n",
    "Jzw = 0.125\n",
    "lw = 2.2"
   ]
  },
  {
   "cell_type": "markdown",
   "id": "following-implementation",
   "metadata": {},
   "source": [
    "Derive the equations of motion:"
   ]
  },
  {
   "cell_type": "code",
   "execution_count": 7,
   "id": "fixed-developer",
   "metadata": {},
   "outputs": [],
   "source": [
    "# Define yaw, pitch, roll angles\n",
    "psi, theta, phi = sym.symbols('psi, theta, phi')\n",
    "\n",
    "# Define angular velocities\n",
    "w_x, w_y, w_z = sym.symbols('w_x, w_y, w_z')\n",
    "\n",
    "# Define torques\n",
    "tau_1, tau_2, tau_3, tau_4 = sym.symbols('tau_1, tau_2, tau_3, tau_4')\n",
    "\n",
    "# Compute resultant torques\n",
    "T1 = - tau_1 * sym.Matrix(wheels[0]['xyz'])\n",
    "T2 = - tau_2 * sym.Matrix(wheels[1]['xyz'])\n",
    "T3 = - tau_3 * sym.Matrix(wheels[2]['xyz'])\n",
    "T4 = - tau_4 * sym.Matrix(wheels[3]['xyz'])\n",
    "T = sym.nsimplify(T1 + T2 + T3 + T4)\n",
    "\n",
    "# Define MOI of spacecraft and wheels together\n",
    "#\n",
    "#  FIXME: For now, assume that each RW is a point mass. Later,\n",
    "#         somebody should do this properly.\n",
    "#\n",
    "Jx = sym.nsimplify(Jxb + 4 * mw * lw**2)\n",
    "Jy = sym.nsimplify(Jyb + 4 * mw * lw**2)\n",
    "Jz = sym.nsimplify(Jzb + 4 * mw * lw**2)\n",
    "\n",
    "# Define rotation matrices\n",
    "Rz = sym.Matrix([[sym.cos(psi), -sym.sin(psi), 0], [sym.sin(psi), sym.cos(psi), 0], [0, 0, 1]])\n",
    "Ry = sym.Matrix([[sym.cos(theta), 0, sym.sin(theta)], [0, 1, 0], [-sym.sin(theta), 0, sym.cos(theta)]])\n",
    "Rx = sym.Matrix([[1, 0, 0], [0, sym.cos(phi), -sym.sin(phi)], [0, sym.sin(phi), sym.cos(phi)]])\n",
    "\n",
    "# Define the transformation from angular velocity to angular rates\n",
    "ex = sym.Matrix([[1], [0], [0]])\n",
    "ey = sym.Matrix([[0], [1], [0]])\n",
    "ez = sym.Matrix([[0], [0], [1]])\n",
    "M = sym.simplify(sym.Matrix.hstack((Ry @ Rx).T @ ez, Rx.T @ ey, ex).inv(), full=True)\n",
    "\n",
    "# Define euler's equations\n",
    "euler = sym.Matrix([[(1 / Jx) * (T[0] + (Jy - Jz) * w_y * w_z)],\n",
    "                   [(1 / Jy) * (T[1] + (Jz - Jx) * w_z * w_x)],\n",
    "                   [(1 / Jz) * (T[2] + (Jx - Jy) * w_x * w_y)]])\n",
    "\n",
    "# Define equations of motion\n",
    "f = sym.simplify(sym.Matrix.vstack(M * sym.Matrix([[w_x], [w_y], [w_z]]), euler), full=True)"
   ]
  },
  {
   "cell_type": "markdown",
   "id": "according-occasion",
   "metadata": {},
   "source": [
    "The equations of motion have this form:\n",
    "\n",
    "$$\\begin{bmatrix} \\dot{\\psi} \\\\ \\dot{\\theta} \\\\ \\dot{\\phi} \\\\ \\dot{w_x} \\\\ \\dot{w_y} \\\\ \\dot{w_z} \\end{bmatrix} = f\\left(\\psi, \\theta, \\phi, w_x, w_y, w_z, \\tau_1, \\tau_2, \\tau_3, \\tau_4\\right)$$\n",
    "\n",
    "Here is the function $f$:"
   ]
  },
  {
   "cell_type": "code",
   "execution_count": 8,
   "id": "welsh-passion",
   "metadata": {},
   "outputs": [
    {
     "data": {
      "text/latex": [
       "$\\displaystyle \\left[\\begin{matrix}\\frac{w_{y} \\sin{\\left(\\phi \\right)} + w_{z} \\cos{\\left(\\phi \\right)}}{\\cos{\\left(\\theta \\right)}}\\\\w_{y} \\cos{\\left(\\phi \\right)} - w_{z} \\sin{\\left(\\phi \\right)}\\\\w_{x} + w_{y} \\sin{\\left(\\phi \\right)} \\tan{\\left(\\theta \\right)} + w_{z} \\cos{\\left(\\phi \\right)} \\tan{\\left(\\theta \\right)}\\\\\\frac{1944543648263 \\tau_{1}}{36700000000000} - \\frac{1944543648263 \\tau_{2}}{36700000000000} + \\frac{952551661859043 \\tau_{3}}{293600000000000000000000000000000} - \\frac{476275830929521 \\tau_{4}}{146800000000000000000000000000000} - \\frac{75 w_{y} w_{z}}{367}\\\\\\frac{1944543648263 \\tau_{1}}{36700000000000} + \\frac{1944543648263 \\tau_{2}}{36700000000000} + \\frac{476275830929521 \\tau_{3}}{146800000000000000000000000000000} + \\frac{952551661859043 \\tau_{4}}{293600000000000000000000000000000} + \\frac{75 w_{x} w_{z}}{367}\\\\- \\frac{134711147906209 \\tau_{1}}{17680000000000000000000000000000} + \\frac{134711147906209 \\tau_{2}}{17680000000000000000000000000000} - \\frac{55 \\tau_{3}}{884} + \\frac{55 \\tau_{4}}{884}\\end{matrix}\\right]$"
      ],
      "text/plain": [
       "Matrix([\n",
       "[                                                                                                                                                                    (w_y*sin(phi) + w_z*cos(phi))/cos(theta)],\n",
       "[                                                                                                                                                                                 w_y*cos(phi) - w_z*sin(phi)],\n",
       "[                                                                                                                                                     w_x + w_y*sin(phi)*tan(theta) + w_z*cos(phi)*tan(theta)],\n",
       "[1944543648263*tau_1/36700000000000 - 1944543648263*tau_2/36700000000000 + 952551661859043*tau_3/293600000000000000000000000000000 - 476275830929521*tau_4/146800000000000000000000000000000 - 75*w_y*w_z/367],\n",
       "[1944543648263*tau_1/36700000000000 + 1944543648263*tau_2/36700000000000 + 476275830929521*tau_3/146800000000000000000000000000000 + 952551661859043*tau_4/293600000000000000000000000000000 + 75*w_x*w_z/367],\n",
       "[                                                              -134711147906209*tau_1/17680000000000000000000000000000 + 134711147906209*tau_2/17680000000000000000000000000000 - 55*tau_3/884 + 55*tau_4/884]])"
      ]
     },
     "execution_count": 8,
     "metadata": {},
     "output_type": "execute_result"
    }
   ],
   "source": [
    "f"
   ]
  },
  {
   "cell_type": "code",
   "execution_count": 9,
   "id": "e2556374",
   "metadata": {},
   "outputs": [],
   "source": [
    "# equilibrium values of each variable, calculated by hand\n",
    "psi_e = 0 # angle\n",
    "theta_e = 0 # angle\n",
    "phi_e = 0 # angle\n",
    "w_xe = 0\n",
    "w_ye = 0 \n",
    "w_ze = 0\n",
    "tau_1e = 0\n",
    "tau_2e = 0\n",
    "tau_3e = 0\n",
    "tau_4e = 0\n",
    "\n",
    "\n",
    "A_num = sym.lambdify((psi,theta, phi,w_x,w_y,w_z,tau_1, tau_2, tau_3, tau_4), f.jacobian([psi,theta, phi,w_x,w_y,w_z]))\n",
    "B_num = sym.lambdify((psi,theta, phi,w_x,w_y,w_z,tau_1, tau_2, tau_3, tau_4), f.jacobian([tau_1, tau_2, tau_3, tau_4]))\n",
    "\n",
    "A = A_num(psi_e,theta_e,phi_e,w_xe,w_ye,w_ze,tau_1e, tau_2e, tau_3e, tau_4e)\n",
    "B = B_num(psi_e,theta_e,phi_e,w_xe,w_ye,w_ze,tau_1e, tau_2e, tau_3e, tau_4e)\n",
    "\n",
    "A = A.astype(float)\n",
    "B = B.astype(float)"
   ]
  },
  {
   "cell_type": "code",
   "execution_count": 10,
   "id": "a91a9cee",
   "metadata": {},
   "outputs": [
    {
     "data": {
      "text/plain": [
       "(array([[ 0.,  0.,  0.,  0.,  0.,  1.],\n",
       "        [ 0.,  0.,  0.,  0.,  1., -0.],\n",
       "        [ 0.,  0.,  0.,  1.,  0.,  0.],\n",
       "        [ 0.,  0.,  0.,  0., -0., -0.],\n",
       "        [ 0.,  0.,  0.,  0.,  0.,  0.],\n",
       "        [ 0.,  0.,  0.,  0.,  0.,  0.]]),\n",
       " array([[ 0.00000000e+00,  0.00000000e+00,  0.00000000e+00,\n",
       "          0.00000000e+00],\n",
       "        [ 0.00000000e+00,  0.00000000e+00,  0.00000000e+00,\n",
       "          0.00000000e+00],\n",
       "        [ 0.00000000e+00,  0.00000000e+00,  0.00000000e+00,\n",
       "          0.00000000e+00],\n",
       "        [ 5.29848406e-02, -5.29848406e-02,  3.24438577e-18,\n",
       "         -3.24438577e-18],\n",
       "        [ 5.29848406e-02,  5.29848406e-02,  3.24438577e-18,\n",
       "          3.24438577e-18],\n",
       "        [-7.61940882e-18,  7.61940882e-18, -6.22171946e-02,\n",
       "          6.22171946e-02]]))"
      ]
     },
     "execution_count": 10,
     "metadata": {},
     "output_type": "execute_result"
    }
   ],
   "source": [
    "A,B"
   ]
  },
  {
   "cell_type": "code",
   "execution_count": 11,
   "id": "8a48ffa0",
   "metadata": {},
   "outputs": [],
   "source": [
    "W = np.block([B,A@B,A@A@B, A@A@A@B, A@A@A@A@B, A@A@A@A@A@B])"
   ]
  },
  {
   "cell_type": "code",
   "execution_count": 12,
   "id": "9e2b108a",
   "metadata": {},
   "outputs": [
    {
     "data": {
      "text/plain": [
       "6"
      ]
     },
     "execution_count": 12,
     "metadata": {},
     "output_type": "execute_result"
    }
   ],
   "source": [
    "np.linalg.matrix_rank(W)"
   ]
  },
  {
   "cell_type": "code",
   "execution_count": 13,
   "id": "5268de47",
   "metadata": {},
   "outputs": [
    {
     "data": {
      "text/plain": [
       "(Matrix([\n",
       " [0, 0, 0,   0,   0, 1.0],\n",
       " [0, 0, 0,   0, 1.0,   0],\n",
       " [0, 0, 0, 1.0,   0,   0],\n",
       " [0, 0, 0,   0,   0,   0],\n",
       " [0, 0, 0,   0,   0,   0],\n",
       " [0, 0, 0,   0,   0,   0]]),\n",
       " Matrix([\n",
       " [                    0,                    0,                    0,                     0],\n",
       " [                    0,                    0,                    0,                     0],\n",
       " [                    0,                    0,                    0,                     0],\n",
       " [   0.0529848405521253,  -0.0529848405521253, 3.24438576927467e-18, -3.24438576927467e-18],\n",
       " [   0.0529848405521253,   0.0529848405521253, 3.24438576927467e-18,  3.24438576927467e-18],\n",
       " [-7.61940881822449e-18, 7.61940881822449e-18,  -0.0622171945701357,    0.0622171945701357]]))"
      ]
     },
     "execution_count": 13,
     "metadata": {},
     "output_type": "execute_result"
    }
   ],
   "source": [
    "Am = sym.Matrix(A)\n",
    "Bm = sym.Matrix(B)\n",
    "Am, Bm"
   ]
  },
  {
   "cell_type": "code",
   "execution_count": 14,
   "id": "126d261a",
   "metadata": {},
   "outputs": [],
   "source": [
    "def lqr(A, B, Q, R):\n",
    "    P = linalg.solve_continuous_are(A, B, Q, R)\n",
    "    K = linalg.inv(R) @ B.T @ P\n",
    "    return K"
   ]
  },
  {
   "cell_type": "code",
   "execution_count": 15,
   "id": "459bb91e",
   "metadata": {},
   "outputs": [],
   "source": [
    "q1 = 1\n",
    "q2 = 1\n",
    "q3 = 1\n",
    "q4 = 1\n",
    "q5 = 1\n",
    "q6 = 1\n",
    "\n",
    "Q = np.diag([q1,q2,q3,q4,q5,q6])\n",
    "R = np.eye(4)"
   ]
  },
  {
   "cell_type": "code",
   "execution_count": 16,
   "id": "39ac96f6",
   "metadata": {},
   "outputs": [],
   "source": [
    "K = lqr(A,B,Q,R)"
   ]
  },
  {
   "cell_type": "code",
   "execution_count": 17,
   "id": "40fa08b3",
   "metadata": {},
   "outputs": [
    {
     "data": {
      "text/plain": [
       "array([[-7.16435136e-16,  7.07106781e-01,  7.07106781e-01,\n",
       "         3.72094807e+00,  3.72094807e+00, -8.72057919e-16],\n",
       "       [-1.35350397e-16,  7.07106781e-01, -7.07106781e-01,\n",
       "        -3.72094807e+00,  3.72094807e+00, -9.00120736e-16],\n",
       "       [-7.07106781e-01,  1.22393720e-16, -7.68463772e-17,\n",
       "        -2.83976895e-16,  1.26832849e-15, -3.44458045e+00],\n",
       "       [ 7.07106781e-01, -3.57981146e-17,  7.68463772e-17,\n",
       "         2.83976895e-16, -8.12643780e-16,  3.44458045e+00]])"
      ]
     },
     "execution_count": 17,
     "metadata": {},
     "output_type": "execute_result"
    }
   ],
   "source": [
    "K"
   ]
  },
  {
   "cell_type": "markdown",
   "id": "cultural-penalty",
   "metadata": {},
   "source": [
    "## Create sensor model"
   ]
  },
  {
   "cell_type": "markdown",
   "id": "tested-graham",
   "metadata": {},
   "source": [
    "Symbolic variables for right ascension $\\alpha$ and declination $\\delta$ of each star:"
   ]
  },
  {
   "cell_type": "code",
   "execution_count": 18,
   "id": "historic-ending",
   "metadata": {},
   "outputs": [],
   "source": [
    "alpha, delta = sym.symbols('alpha, delta')"
   ]
  },
  {
   "cell_type": "markdown",
   "id": "common-reputation",
   "metadata": {},
   "source": [
    "Specify the physical parameters:"
   ]
  },
  {
   "cell_type": "code",
   "execution_count": 19,
   "id": "second-slave",
   "metadata": {},
   "outputs": [],
   "source": [
    "# Scope radius\n",
    "r = 0.8 / 2.1"
   ]
  },
  {
   "cell_type": "markdown",
   "id": "polish-burning",
   "metadata": {},
   "source": [
    "Derive the sensor model:"
   ]
  },
  {
   "cell_type": "code",
   "execution_count": 35,
   "id": "diagnostic-authority",
   "metadata": {},
   "outputs": [],
   "source": [
    "# Position of star in space frame\n",
    "p_star_in_space = sym.Matrix([[sym.cos(alpha) * sym.cos(delta)],\n",
    "                              [sym.sin(alpha) * sym.cos(delta)],\n",
    "                              [sym.sin(delta)]])\n",
    "\n",
    "# Orientation of body frame in space frame\n",
    "R_body_in_space = Rz * Ry * Rx\n",
    "\n",
    "# Position of star in body frame (assuming origin of body and space frames are the same)\n",
    "p_star_in_body = R_body_in_space.T * p_star_in_space\n",
    "\n",
    "# Position of star in image frame\n",
    "p_star_in_image = (1 / sym.nsimplify(r)) * sym.Matrix([[p_star_in_body[1] / p_star_in_body[0]],\n",
    "                                                       [p_star_in_body[2] / p_star_in_body[0]]])\n",
    "\n",
    "# Sensor model for each star\n",
    "g = sym.simplify(p_star_in_image, full=True)"
   ]
  },
  {
   "cell_type": "markdown",
   "id": "continuing-reference",
   "metadata": {},
   "source": [
    "The sensor model has this form for each star:\n",
    "\n",
    "$$\\zeta = g(\\psi, \\theta, \\phi, \\alpha, \\delta)$$\n",
    "\n",
    "Here is the function $g$:"
   ]
  },
  {
   "cell_type": "code",
   "execution_count": 21,
   "id": "protected-orlando",
   "metadata": {},
   "outputs": [
    {
     "data": {
      "text/latex": [
       "$\\displaystyle \\left[\\begin{matrix}\\frac{21 \\left(\\sin{\\left(\\delta \\right)} \\sin{\\left(\\phi \\right)} \\cos{\\left(\\theta \\right)} + \\sin{\\left(\\phi \\right)} \\sin{\\left(\\theta \\right)} \\cos{\\left(\\delta \\right)} \\cos{\\left(\\alpha - \\psi \\right)} + \\sin{\\left(\\alpha - \\psi \\right)} \\cos{\\left(\\delta \\right)} \\cos{\\left(\\phi \\right)}\\right)}{8 \\left(- \\sin{\\left(\\delta \\right)} \\sin{\\left(\\theta \\right)} + \\cos{\\left(\\delta \\right)} \\cos{\\left(\\theta \\right)} \\cos{\\left(\\alpha - \\psi \\right)}\\right)}\\\\\\frac{21 \\left(\\sin{\\left(\\delta \\right)} \\cos{\\left(\\phi \\right)} \\cos{\\left(\\theta \\right)} - \\sin{\\left(\\phi \\right)} \\sin{\\left(\\alpha - \\psi \\right)} \\cos{\\left(\\delta \\right)} + \\sin{\\left(\\theta \\right)} \\cos{\\left(\\delta \\right)} \\cos{\\left(\\phi \\right)} \\cos{\\left(\\alpha - \\psi \\right)}\\right)}{8 \\left(- \\sin{\\left(\\delta \\right)} \\sin{\\left(\\theta \\right)} + \\cos{\\left(\\delta \\right)} \\cos{\\left(\\theta \\right)} \\cos{\\left(\\alpha - \\psi \\right)}\\right)}\\end{matrix}\\right]$"
      ],
      "text/plain": [
       "Matrix([\n",
       "[21*(sin(delta)*sin(phi)*cos(theta) + sin(phi)*sin(theta)*cos(delta)*cos(alpha - psi) + sin(alpha - psi)*cos(delta)*cos(phi))/(8*(-sin(delta)*sin(theta) + cos(delta)*cos(theta)*cos(alpha - psi)))],\n",
       "[21*(sin(delta)*cos(phi)*cos(theta) - sin(phi)*sin(alpha - psi)*cos(delta) + sin(theta)*cos(delta)*cos(phi)*cos(alpha - psi))/(8*(-sin(delta)*sin(theta) + cos(delta)*cos(theta)*cos(alpha - psi)))]])"
      ]
     },
     "execution_count": 21,
     "metadata": {},
     "output_type": "execute_result"
    }
   ],
   "source": [
    "g"
   ]
  },
  {
   "cell_type": "code",
   "execution_count": 34,
   "id": "893baee2",
   "metadata": {},
   "outputs": [],
   "source": [
    "alpha0 = -0.10 \n",
    "delta0 = -0.15\n",
    "alpha1 =  0.00\n",
    "delta1 = -0.15\n",
    "alpha2 =  0.10 \n",
    "delta2 = -0.15\n",
    "alpha3 =  0.00\n",
    "delta3 =  0.00\n",
    "alpha4 = -0.10\n",
    "delta4 =  0.15\n",
    "alpha5 =  0.00\n",
    "delta5 =  0.15\n",
    "alpha6 =  0.10\n",
    "delta6 =  0.15"
   ]
  },
  {
   "cell_type": "code",
   "execution_count": 39,
   "id": "33ae7b49",
   "metadata": {},
   "outputs": [],
   "source": [
    "g0 = g.subs(alpha, alpha0).subs(delta,delta0)\n",
    "g1 = g.subs(alpha, alpha1).subs(delta,delta1)\n",
    "g2 = g.subs(alpha, alpha2).subs(delta,delta2)\n",
    "g3 = g.subs(alpha, alpha3).subs(delta,delta3)\n",
    "g4 = g.subs(alpha, alpha4).subs(delta,delta4)\n",
    "g5 = g.subs(alpha, alpha5).subs(delta,delta5)\n",
    "g6 = g.subs(alpha, alpha6).subs(delta,delta6)"
   ]
  },
  {
   "cell_type": "code",
   "execution_count": 41,
   "id": "9a333403",
   "metadata": {},
   "outputs": [],
   "source": [
    "gprime = sym.Matrix([g0,g1,g2,g3,g4,g5,g6])"
   ]
  },
  {
   "cell_type": "code",
   "execution_count": 42,
   "id": "eaf1e227",
   "metadata": {},
   "outputs": [
    {
     "data": {
      "text/latex": [
       "$\\displaystyle \\left[\\begin{matrix}\\frac{21 \\cdot \\left(0.988771077936042 \\sin{\\left(\\phi \\right)} \\sin{\\left(\\theta \\right)} \\cos{\\left(\\psi + 0.1 \\right)} - 0.149438132473599 \\sin{\\left(\\phi \\right)} \\cos{\\left(\\theta \\right)} - 0.988771077936042 \\sin{\\left(\\psi + 0.1 \\right)} \\cos{\\left(\\phi \\right)}\\right)}{8 \\cdot \\left(0.149438132473599 \\sin{\\left(\\theta \\right)} + 0.988771077936042 \\cos{\\left(\\theta \\right)} \\cos{\\left(\\psi + 0.1 \\right)}\\right)}\\\\\\frac{21 \\cdot \\left(0.988771077936042 \\sin{\\left(\\phi \\right)} \\sin{\\left(\\psi + 0.1 \\right)} + 0.988771077936042 \\sin{\\left(\\theta \\right)} \\cos{\\left(\\phi \\right)} \\cos{\\left(\\psi + 0.1 \\right)} - 0.149438132473599 \\cos{\\left(\\phi \\right)} \\cos{\\left(\\theta \\right)}\\right)}{8 \\cdot \\left(0.149438132473599 \\sin{\\left(\\theta \\right)} + 0.988771077936042 \\cos{\\left(\\theta \\right)} \\cos{\\left(\\psi + 0.1 \\right)}\\right)}\\\\\\frac{21 \\cdot \\left(0.988771077936042 \\sin{\\left(\\phi \\right)} \\sin{\\left(\\theta \\right)} \\cos{\\left(\\psi \\right)} - 0.149438132473599 \\sin{\\left(\\phi \\right)} \\cos{\\left(\\theta \\right)} - 0.988771077936042 \\sin{\\left(\\psi \\right)} \\cos{\\left(\\phi \\right)}\\right)}{8 \\cdot \\left(0.149438132473599 \\sin{\\left(\\theta \\right)} + 0.988771077936042 \\cos{\\left(\\psi \\right)} \\cos{\\left(\\theta \\right)}\\right)}\\\\\\frac{21 \\cdot \\left(0.988771077936042 \\sin{\\left(\\phi \\right)} \\sin{\\left(\\psi \\right)} + 0.988771077936042 \\sin{\\left(\\theta \\right)} \\cos{\\left(\\phi \\right)} \\cos{\\left(\\psi \\right)} - 0.149438132473599 \\cos{\\left(\\phi \\right)} \\cos{\\left(\\theta \\right)}\\right)}{8 \\cdot \\left(0.149438132473599 \\sin{\\left(\\theta \\right)} + 0.988771077936042 \\cos{\\left(\\psi \\right)} \\cos{\\left(\\theta \\right)}\\right)}\\\\\\frac{21 \\cdot \\left(0.988771077936042 \\sin{\\left(\\phi \\right)} \\sin{\\left(\\theta \\right)} \\cos{\\left(\\psi - 0.1 \\right)} - 0.149438132473599 \\sin{\\left(\\phi \\right)} \\cos{\\left(\\theta \\right)} - 0.988771077936042 \\sin{\\left(\\psi - 0.1 \\right)} \\cos{\\left(\\phi \\right)}\\right)}{8 \\cdot \\left(0.149438132473599 \\sin{\\left(\\theta \\right)} + 0.988771077936042 \\cos{\\left(\\theta \\right)} \\cos{\\left(\\psi - 0.1 \\right)}\\right)}\\\\\\frac{21 \\cdot \\left(0.988771077936042 \\sin{\\left(\\phi \\right)} \\sin{\\left(\\psi - 0.1 \\right)} + 0.988771077936042 \\sin{\\left(\\theta \\right)} \\cos{\\left(\\phi \\right)} \\cos{\\left(\\psi - 0.1 \\right)} - 0.149438132473599 \\cos{\\left(\\phi \\right)} \\cos{\\left(\\theta \\right)}\\right)}{8 \\cdot \\left(0.149438132473599 \\sin{\\left(\\theta \\right)} + 0.988771077936042 \\cos{\\left(\\theta \\right)} \\cos{\\left(\\psi - 0.1 \\right)}\\right)}\\\\\\frac{21 \\left(\\sin{\\left(\\phi \\right)} \\sin{\\left(\\theta \\right)} \\cos{\\left(\\psi \\right)} - \\sin{\\left(\\psi \\right)} \\cos{\\left(\\phi \\right)}\\right)}{8 \\cos{\\left(\\psi \\right)} \\cos{\\left(\\theta \\right)}}\\\\\\frac{21 \\left(\\sin{\\left(\\phi \\right)} \\sin{\\left(\\psi \\right)} + \\sin{\\left(\\theta \\right)} \\cos{\\left(\\phi \\right)} \\cos{\\left(\\psi \\right)}\\right)}{8 \\cos{\\left(\\psi \\right)} \\cos{\\left(\\theta \\right)}}\\\\\\frac{21 \\cdot \\left(0.988771077936042 \\sin{\\left(\\phi \\right)} \\sin{\\left(\\theta \\right)} \\cos{\\left(\\psi + 0.1 \\right)} + 0.149438132473599 \\sin{\\left(\\phi \\right)} \\cos{\\left(\\theta \\right)} - 0.988771077936042 \\sin{\\left(\\psi + 0.1 \\right)} \\cos{\\left(\\phi \\right)}\\right)}{8 \\left(- 0.149438132473599 \\sin{\\left(\\theta \\right)} + 0.988771077936042 \\cos{\\left(\\theta \\right)} \\cos{\\left(\\psi + 0.1 \\right)}\\right)}\\\\\\frac{21 \\cdot \\left(0.988771077936042 \\sin{\\left(\\phi \\right)} \\sin{\\left(\\psi + 0.1 \\right)} + 0.988771077936042 \\sin{\\left(\\theta \\right)} \\cos{\\left(\\phi \\right)} \\cos{\\left(\\psi + 0.1 \\right)} + 0.149438132473599 \\cos{\\left(\\phi \\right)} \\cos{\\left(\\theta \\right)}\\right)}{8 \\left(- 0.149438132473599 \\sin{\\left(\\theta \\right)} + 0.988771077936042 \\cos{\\left(\\theta \\right)} \\cos{\\left(\\psi + 0.1 \\right)}\\right)}\\\\\\frac{21 \\cdot \\left(0.988771077936042 \\sin{\\left(\\phi \\right)} \\sin{\\left(\\theta \\right)} \\cos{\\left(\\psi \\right)} + 0.149438132473599 \\sin{\\left(\\phi \\right)} \\cos{\\left(\\theta \\right)} - 0.988771077936042 \\sin{\\left(\\psi \\right)} \\cos{\\left(\\phi \\right)}\\right)}{8 \\left(- 0.149438132473599 \\sin{\\left(\\theta \\right)} + 0.988771077936042 \\cos{\\left(\\psi \\right)} \\cos{\\left(\\theta \\right)}\\right)}\\\\\\frac{21 \\cdot \\left(0.988771077936042 \\sin{\\left(\\phi \\right)} \\sin{\\left(\\psi \\right)} + 0.988771077936042 \\sin{\\left(\\theta \\right)} \\cos{\\left(\\phi \\right)} \\cos{\\left(\\psi \\right)} + 0.149438132473599 \\cos{\\left(\\phi \\right)} \\cos{\\left(\\theta \\right)}\\right)}{8 \\left(- 0.149438132473599 \\sin{\\left(\\theta \\right)} + 0.988771077936042 \\cos{\\left(\\psi \\right)} \\cos{\\left(\\theta \\right)}\\right)}\\\\\\frac{21 \\cdot \\left(0.988771077936042 \\sin{\\left(\\phi \\right)} \\sin{\\left(\\theta \\right)} \\cos{\\left(\\psi - 0.1 \\right)} + 0.149438132473599 \\sin{\\left(\\phi \\right)} \\cos{\\left(\\theta \\right)} - 0.988771077936042 \\sin{\\left(\\psi - 0.1 \\right)} \\cos{\\left(\\phi \\right)}\\right)}{8 \\left(- 0.149438132473599 \\sin{\\left(\\theta \\right)} + 0.988771077936042 \\cos{\\left(\\theta \\right)} \\cos{\\left(\\psi - 0.1 \\right)}\\right)}\\\\\\frac{21 \\cdot \\left(0.988771077936042 \\sin{\\left(\\phi \\right)} \\sin{\\left(\\psi - 0.1 \\right)} + 0.988771077936042 \\sin{\\left(\\theta \\right)} \\cos{\\left(\\phi \\right)} \\cos{\\left(\\psi - 0.1 \\right)} + 0.149438132473599 \\cos{\\left(\\phi \\right)} \\cos{\\left(\\theta \\right)}\\right)}{8 \\left(- 0.149438132473599 \\sin{\\left(\\theta \\right)} + 0.988771077936042 \\cos{\\left(\\theta \\right)} \\cos{\\left(\\psi - 0.1 \\right)}\\right)}\\end{matrix}\\right]$"
      ],
      "text/plain": [
       "Matrix([\n",
       "[ 21*(0.988771077936042*sin(phi)*sin(theta)*cos(psi + 0.1) - 0.149438132473599*sin(phi)*cos(theta) - 0.988771077936042*sin(psi + 0.1)*cos(phi))/(8*(0.149438132473599*sin(theta) + 0.988771077936042*cos(theta)*cos(psi + 0.1)))],\n",
       "[ 21*(0.988771077936042*sin(phi)*sin(psi + 0.1) + 0.988771077936042*sin(theta)*cos(phi)*cos(psi + 0.1) - 0.149438132473599*cos(phi)*cos(theta))/(8*(0.149438132473599*sin(theta) + 0.988771077936042*cos(theta)*cos(psi + 0.1)))],\n",
       "[                   21*(0.988771077936042*sin(phi)*sin(theta)*cos(psi) - 0.149438132473599*sin(phi)*cos(theta) - 0.988771077936042*sin(psi)*cos(phi))/(8*(0.149438132473599*sin(theta) + 0.988771077936042*cos(psi)*cos(theta)))],\n",
       "[                   21*(0.988771077936042*sin(phi)*sin(psi) + 0.988771077936042*sin(theta)*cos(phi)*cos(psi) - 0.149438132473599*cos(phi)*cos(theta))/(8*(0.149438132473599*sin(theta) + 0.988771077936042*cos(psi)*cos(theta)))],\n",
       "[ 21*(0.988771077936042*sin(phi)*sin(theta)*cos(psi - 0.1) - 0.149438132473599*sin(phi)*cos(theta) - 0.988771077936042*sin(psi - 0.1)*cos(phi))/(8*(0.149438132473599*sin(theta) + 0.988771077936042*cos(theta)*cos(psi - 0.1)))],\n",
       "[ 21*(0.988771077936042*sin(phi)*sin(psi - 0.1) + 0.988771077936042*sin(theta)*cos(phi)*cos(psi - 0.1) - 0.149438132473599*cos(phi)*cos(theta))/(8*(0.149438132473599*sin(theta) + 0.988771077936042*cos(theta)*cos(psi - 0.1)))],\n",
       "[                                                                                                                                                  21*(sin(phi)*sin(theta)*cos(psi) - sin(psi)*cos(phi))/(8*cos(psi)*cos(theta))],\n",
       "[                                                                                                                                                  21*(sin(phi)*sin(psi) + sin(theta)*cos(phi)*cos(psi))/(8*cos(psi)*cos(theta))],\n",
       "[21*(0.988771077936042*sin(phi)*sin(theta)*cos(psi + 0.1) + 0.149438132473599*sin(phi)*cos(theta) - 0.988771077936042*sin(psi + 0.1)*cos(phi))/(8*(-0.149438132473599*sin(theta) + 0.988771077936042*cos(theta)*cos(psi + 0.1)))],\n",
       "[21*(0.988771077936042*sin(phi)*sin(psi + 0.1) + 0.988771077936042*sin(theta)*cos(phi)*cos(psi + 0.1) + 0.149438132473599*cos(phi)*cos(theta))/(8*(-0.149438132473599*sin(theta) + 0.988771077936042*cos(theta)*cos(psi + 0.1)))],\n",
       "[                  21*(0.988771077936042*sin(phi)*sin(theta)*cos(psi) + 0.149438132473599*sin(phi)*cos(theta) - 0.988771077936042*sin(psi)*cos(phi))/(8*(-0.149438132473599*sin(theta) + 0.988771077936042*cos(psi)*cos(theta)))],\n",
       "[                  21*(0.988771077936042*sin(phi)*sin(psi) + 0.988771077936042*sin(theta)*cos(phi)*cos(psi) + 0.149438132473599*cos(phi)*cos(theta))/(8*(-0.149438132473599*sin(theta) + 0.988771077936042*cos(psi)*cos(theta)))],\n",
       "[21*(0.988771077936042*sin(phi)*sin(theta)*cos(psi - 0.1) + 0.149438132473599*sin(phi)*cos(theta) - 0.988771077936042*sin(psi - 0.1)*cos(phi))/(8*(-0.149438132473599*sin(theta) + 0.988771077936042*cos(theta)*cos(psi - 0.1)))],\n",
       "[21*(0.988771077936042*sin(phi)*sin(psi - 0.1) + 0.988771077936042*sin(theta)*cos(phi)*cos(psi - 0.1) + 0.149438132473599*cos(phi)*cos(theta))/(8*(-0.149438132473599*sin(theta) + 0.988771077936042*cos(theta)*cos(psi - 0.1)))]])"
      ]
     },
     "execution_count": 42,
     "metadata": {},
     "output_type": "execute_result"
    }
   ],
   "source": [
    "gprime"
   ]
  },
  {
   "cell_type": "code",
   "execution_count": 54,
   "id": "dd3c6695",
   "metadata": {},
   "outputs": [],
   "source": [
    "C_num = sym.lambdify((psi,theta, phi,w_x,w_y,w_z,tau_1, tau_2, tau_3, tau_4),gprime.jacobian([psi,theta, phi,w_x,w_y,w_z]))\n",
    "D_num = sym.lambdify((psi,theta, phi,w_x,w_y,w_z,tau_1, tau_2, tau_3, tau_4),gprime.jacobian([tau_1, tau_2, tau_3, tau_4]))"
   ]
  },
  {
   "cell_type": "code",
   "execution_count": 55,
   "id": "84d665b7",
   "metadata": {},
   "outputs": [
    {
     "data": {
      "text/plain": [
       "<function _lambdifygenerated(psi, theta, phi, w_x, w_y, w_z, tau_1, tau_2, tau_3, tau_4)>"
      ]
     },
     "execution_count": 55,
     "metadata": {},
     "output_type": "execute_result"
    }
   ],
   "source": [
    "C_num"
   ]
  },
  {
   "cell_type": "code",
   "execution_count": 56,
   "id": "83cd66ae",
   "metadata": {},
   "outputs": [],
   "source": [
    "C = C_num(psi_e,theta_e,phi_e,w_xe,w_ye,w_ze,tau_1e, tau_2e, tau_3e, tau_4e)\n",
    "D = D_num(psi_e,theta_e,phi_e,w_xe,w_ye,w_ze,tau_1e, tau_2e, tau_3e, tau_4e)\n",
    "\n",
    "C = C.astype(float)\n",
    "D = D.astype(float)"
   ]
  },
  {
   "cell_type": "code",
   "execution_count": 57,
   "id": "b67a7a30",
   "metadata": {},
   "outputs": [
    {
     "data": {
      "text/plain": [
       "array([[-2.651426  ,  0.04000563, -0.3987219 ,  0.        ,  0.        ,\n",
       "         0.        ],\n",
       "       [-0.04000563,  2.68556349,  0.26337851,  0.        ,  0.        ,\n",
       "         0.        ],\n",
       "       [-2.625     ,  0.        , -0.39672995,  0.        ,  0.        ,\n",
       "         0.        ],\n",
       "       [ 0.        ,  2.68495987,  0.        ,  0.        ,  0.        ,\n",
       "         0.        ],\n",
       "       [-2.651426  , -0.04000563, -0.3987219 ,  0.        ,  0.        ,\n",
       "         0.        ],\n",
       "       [ 0.04000563,  2.68556349, -0.26337851,  0.        ,  0.        ,\n",
       "         0.        ],\n",
       "       [-2.625     ,  0.        ,  0.        ,  0.        ,  0.        ,\n",
       "         0.        ],\n",
       "       [ 0.        ,  2.625     ,  0.        ,  0.        ,  0.        ,\n",
       "         0.        ],\n",
       "       [-2.651426  , -0.04000563,  0.3987219 ,  0.        ,  0.        ,\n",
       "         0.        ],\n",
       "       [ 0.04000563,  2.68556349,  0.26337851,  0.        ,  0.        ,\n",
       "         0.        ],\n",
       "       [-2.625     ,  0.        ,  0.39672995,  0.        ,  0.        ,\n",
       "         0.        ],\n",
       "       [ 0.        ,  2.68495987,  0.        ,  0.        ,  0.        ,\n",
       "         0.        ],\n",
       "       [-2.651426  ,  0.04000563,  0.3987219 ,  0.        ,  0.        ,\n",
       "         0.        ],\n",
       "       [-0.04000563,  2.68556349, -0.26337851,  0.        ,  0.        ,\n",
       "         0.        ]])"
      ]
     },
     "execution_count": 57,
     "metadata": {},
     "output_type": "execute_result"
    }
   ],
   "source": [
    "C"
   ]
  },
  {
   "cell_type": "code",
   "execution_count": null,
   "id": "3e8b132e",
   "metadata": {},
   "outputs": [],
   "source": []
  }
 ],
 "metadata": {
  "kernelspec": {
   "display_name": "Python 3 (ipykernel)",
   "language": "python",
   "name": "python3"
  },
  "language_info": {
   "codemirror_mode": {
    "name": "ipython",
    "version": 3
   },
   "file_extension": ".py",
   "mimetype": "text/x-python",
   "name": "python",
   "nbconvert_exporter": "python",
   "pygments_lexer": "ipython3",
   "version": "3.10.8"
  }
 },
 "nbformat": 4,
 "nbformat_minor": 5
}
